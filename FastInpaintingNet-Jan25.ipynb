{
  "nbformat": 4,
  "nbformat_minor": 0,
  "metadata": {
    "colab": {
      "provenance": [],
      "gpuType": "T4",
      "include_colab_link": true
    },
    "kernelspec": {
      "name": "python3",
      "display_name": "Python 3"
    },
    "language_info": {
      "name": "python"
    },
    "accelerator": "GPU"
  },
  "cells": [
    {
      "cell_type": "markdown",
      "metadata": {
        "id": "view-in-github",
        "colab_type": "text"
      },
      "source": [
        "<a href=\"https://colab.research.google.com/github/fjadidi2001/Image_Inpaint/blob/main/FastInpaintingNet-Jan25.ipynb\" target=\"_parent\"><img src=\"https://colab.research.google.com/assets/colab-badge.svg\" alt=\"Open In Colab\"/></a>"
      ]
    },
    {
      "cell_type": "markdown",
      "source": [
        "# Step 1: Import Libraries"
      ],
      "metadata": {
        "id": "-yLDJ_bRtMHd"
      }
    },
    {
      "cell_type": "code",
      "source": [
        "import torch\n",
        "import matplotlib.pyplot as plt\n",
        "from torchvision.utils import make_grid\n",
        "import numpy as np\n",
        "from skimage.metrics import structural_similarity as ssim\n",
        "from skimage.metrics import peak_signal_noise_ratio as psnr\n",
        "import time"
      ],
      "metadata": {
        "id": "wQlqib31tGSC"
      },
      "execution_count": 1,
      "outputs": []
    },
    {
      "cell_type": "markdown",
      "source": [
        "- torch: PyTorch library for tensor operations and neural networks.\n",
        "\n",
        "- matplotlib.pyplot: For plotting and visualizing images.\n",
        "\n",
        "- torchvision.utils.make_grid: Utility to create a grid of images.\n",
        "\n",
        "- numpy: For numerical operations.\n",
        "\n",
        "- skimage.metrics: For calculating image quality metrics like SSIM and PSNR.\n",
        "\n",
        "- time: For measuring inference time."
      ],
      "metadata": {
        "id": "7xyS_6PLtj7f"
      }
    },
    {
      "cell_type": "code",
      "source": [
        "def denormalize(tensor):\n",
        "    \"\"\"Denormalize the tensor from [-1,1] to [0,1] range\"\"\"\n",
        "    tensor = tensor.clone()\n",
        "    mean = torch.tensor([0.5, 0.5, 0.5]).view(-1, 1, 1).to(tensor.device)\n",
        "    std = torch.tensor([0.5, 0.5, 0.5]).view(-1, 1, 1).to(tensor.device)\n",
        "    return torch.clamp(tensor * std + mean, 0, 1)"
      ],
      "metadata": {
        "id": "o_Cvg1eYtg1P"
      },
      "execution_count": 2,
      "outputs": []
    }
  ]
}