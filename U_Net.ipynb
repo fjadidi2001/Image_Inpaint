{
  "nbformat": 4,
  "nbformat_minor": 0,
  "metadata": {
    "colab": {
      "provenance": [],
      "authorship_tag": "ABX9TyOBfZvFXyX9gDFFrahryfvF",
      "include_colab_link": true
    },
    "kernelspec": {
      "name": "python3",
      "display_name": "Python 3"
    },
    "language_info": {
      "name": "python"
    }
  },
  "cells": [
    {
      "cell_type": "markdown",
      "metadata": {
        "id": "view-in-github",
        "colab_type": "text"
      },
      "source": [
        "<a href=\"https://colab.research.google.com/github/fjadidi2001/Image_Inpaint/blob/main/U_Net.ipynb\" target=\"_parent\"><img src=\"https://colab.research.google.com/assets/colab-badge.svg\" alt=\"Open In Colab\"/></a>"
      ]
    },
    {
      "cell_type": "code",
      "execution_count": 3,
      "metadata": {
        "colab": {
          "base_uri": "https://localhost:8080/",
          "height": 348
        },
        "id": "WYfDoNDJUwTz",
        "outputId": "85d1d805-8427-43c5-b888-1baacf616eb9"
      },
      "outputs": [
        {
          "output_type": "error",
          "ename": "FileNotFoundError",
          "evalue": "[Errno 2] No such file or directory: '/path/to/celeba/images'",
          "traceback": [
            "\u001b[0;31m---------------------------------------------------------------------------\u001b[0m",
            "\u001b[0;31mFileNotFoundError\u001b[0m                         Traceback (most recent call last)",
            "\u001b[0;32m<ipython-input-3-6c0ab3a3e275>\u001b[0m in \u001b[0;36m<cell line: 25>\u001b[0;34m()\u001b[0m\n\u001b[1;32m     23\u001b[0m \u001b[0;34m\u001b[0m\u001b[0m\n\u001b[1;32m     24\u001b[0m \u001b[0;31m# Load images\u001b[0m\u001b[0;34m\u001b[0m\u001b[0;34m\u001b[0m\u001b[0m\n\u001b[0;32m---> 25\u001b[0;31m \u001b[0mimages\u001b[0m \u001b[0;34m=\u001b[0m \u001b[0mload_images_from_folder\u001b[0m\u001b[0;34m(\u001b[0m\u001b[0mdataset_path\u001b[0m\u001b[0;34m)\u001b[0m\u001b[0;34m\u001b[0m\u001b[0;34m\u001b[0m\u001b[0m\n\u001b[0m\u001b[1;32m     26\u001b[0m \u001b[0mx_train\u001b[0m\u001b[0;34m,\u001b[0m \u001b[0mx_test\u001b[0m \u001b[0;34m=\u001b[0m \u001b[0mtrain_test_split\u001b[0m\u001b[0;34m(\u001b[0m\u001b[0mimages\u001b[0m\u001b[0;34m,\u001b[0m \u001b[0mtest_size\u001b[0m\u001b[0;34m=\u001b[0m\u001b[0;36m0.1\u001b[0m\u001b[0;34m,\u001b[0m \u001b[0mrandom_state\u001b[0m\u001b[0;34m=\u001b[0m\u001b[0;36m42\u001b[0m\u001b[0;34m)\u001b[0m\u001b[0;34m\u001b[0m\u001b[0;34m\u001b[0m\u001b[0m\n\u001b[1;32m     27\u001b[0m \u001b[0;34m\u001b[0m\u001b[0m\n",
            "\u001b[0;32m<ipython-input-3-6c0ab3a3e275>\u001b[0m in \u001b[0;36mload_images_from_folder\u001b[0;34m(folder, num_images)\u001b[0m\n\u001b[1;32m     14\u001b[0m \u001b[0;32mdef\u001b[0m \u001b[0mload_images_from_folder\u001b[0m\u001b[0;34m(\u001b[0m\u001b[0mfolder\u001b[0m\u001b[0;34m,\u001b[0m \u001b[0mnum_images\u001b[0m\u001b[0;34m=\u001b[0m\u001b[0;36m10000\u001b[0m\u001b[0;34m)\u001b[0m\u001b[0;34m:\u001b[0m\u001b[0;34m\u001b[0m\u001b[0;34m\u001b[0m\u001b[0m\n\u001b[1;32m     15\u001b[0m     \u001b[0mimages\u001b[0m \u001b[0;34m=\u001b[0m \u001b[0;34m[\u001b[0m\u001b[0;34m]\u001b[0m\u001b[0;34m\u001b[0m\u001b[0;34m\u001b[0m\u001b[0m\n\u001b[0;32m---> 16\u001b[0;31m     \u001b[0;32mfor\u001b[0m \u001b[0mi\u001b[0m\u001b[0;34m,\u001b[0m \u001b[0mfilename\u001b[0m \u001b[0;32min\u001b[0m \u001b[0menumerate\u001b[0m\u001b[0;34m(\u001b[0m\u001b[0mos\u001b[0m\u001b[0;34m.\u001b[0m\u001b[0mlistdir\u001b[0m\u001b[0;34m(\u001b[0m\u001b[0mfolder\u001b[0m\u001b[0;34m)\u001b[0m\u001b[0;34m)\u001b[0m\u001b[0;34m:\u001b[0m\u001b[0;34m\u001b[0m\u001b[0;34m\u001b[0m\u001b[0m\n\u001b[0m\u001b[1;32m     17\u001b[0m         \u001b[0;32mif\u001b[0m \u001b[0mi\u001b[0m \u001b[0;34m>=\u001b[0m \u001b[0mnum_images\u001b[0m\u001b[0;34m:\u001b[0m  \u001b[0;31m# Limit the number of images to load for speed\u001b[0m\u001b[0;34m\u001b[0m\u001b[0;34m\u001b[0m\u001b[0m\n\u001b[1;32m     18\u001b[0m             \u001b[0;32mbreak\u001b[0m\u001b[0;34m\u001b[0m\u001b[0;34m\u001b[0m\u001b[0m\n",
            "\u001b[0;31mFileNotFoundError\u001b[0m: [Errno 2] No such file or directory: '/path/to/celeba/images'"
          ]
        }
      ],
      "source": [
        "import tensorflow as tf\n",
        "from tensorflow.keras.layers import Conv2D, MaxPooling2D, UpSampling2D, Input, concatenate\n",
        "from tensorflow.keras.models import Model\n",
        "import numpy as np\n",
        "import matplotlib.pyplot as plt\n",
        "import os\n",
        "from tensorflow.keras.preprocessing.image import load_img, img_to_array\n",
        "from sklearn.model_selection import train_test_split\n",
        "\n",
        "# Set your dataset path here\n",
        "dataset_path = \"/path/to/celeba/images\"  # Update this path\n",
        "\n",
        "# Load and preprocess the dataset\n",
        "def load_images_from_folder(folder, num_images=10000):\n",
        "    images = []\n",
        "    for i, filename in enumerate(os.listdir(folder)):\n",
        "        if i >= num_images:  # Limit the number of images to load for speed\n",
        "            break\n",
        "        img = load_img(os.path.join(folder, filename), target_size=(128, 128))\n",
        "        img = img_to_array(img) / 255.0  # Normalize image to [0, 1]\n",
        "        images.append(img)\n",
        "    return np.array(images)\n",
        "\n",
        "# Load images\n",
        "images = load_images_from_folder(dataset_path)\n",
        "x_train, x_test = train_test_split(images, test_size=0.1, random_state=42)\n",
        "\n",
        "# Generate random masks for inpainting\n",
        "def create_mask(shape):\n",
        "    mask = np.ones(shape, dtype=np.float32)\n",
        "    x, y, w, h = np.random.randint(30, 98), np.random.randint(30, 98), np.random.randint(30, 98), np.random.randint(30, 98)\n",
        "    mask[x:x+w, y:y+h, :] = 0  # Place a zeroed-out box as a mask\n",
        "    return mask\n",
        "\n",
        "masks_train = np.array([create_mask((128, 128, 3)) for _ in range(len(x_train))])\n",
        "masked_images_train = x_train * masks_train\n",
        "masks_test = np.array([create_mask((128, 128, 3)) for _ in range(len(x_test))])\n",
        "masked_images_test = x_test * masks_test\n",
        "\n",
        "# Define U-Net model\n",
        "def build_unet(input_shape=(128, 128, 3)):\n",
        "    inputs = Input(input_shape)\n",
        "\n",
        "    # Encoder\n",
        "    c1 = Conv2D(64, (3, 3), activation='relu', padding='same')(inputs)\n",
        "    p1 = MaxPooling2D((2, 2))(c1)\n",
        "\n",
        "    c2 = Conv2D(128, (3, 3), activation='relu', padding='same')(p1)\n",
        "    p2 = MaxPooling2D((2, 2))(c2)\n",
        "\n",
        "    # Bottleneck\n",
        "    c3 = Conv2D(256, (3, 3), activation='relu', padding='same')(p2)\n",
        "\n",
        "    # Decoder\n",
        "    u1 = UpSampling2D((2, 2))(c3)\n",
        "    c4 = Conv2D(128, (3, 3), activation='relu', padding='same')(u1)\n",
        "    merge1 = concatenate([c4, c2], axis=3)\n",
        "\n",
        "    u2 = UpSampling2D((2, 2))(merge1)\n",
        "    c5 = Conv2D(64, (3, 3), activation='relu', padding='same')(u2)\n",
        "    merge2 = concatenate([c5, c1], axis=3)\n",
        "\n",
        "    outputs = Conv2D(3, (1, 1), activation='sigmoid')(merge2)\n",
        "\n",
        "    model = Model(inputs, outputs)\n",
        "    return model\n",
        "\n",
        "# Compile and train model\n",
        "model = build_unet()\n",
        "model.compile(optimizer='adam', loss='binary_crossentropy', metrics=['accuracy'])\n",
        "model.fit(masked_images_train, x_train, epochs=10, batch_size=32, validation_data=(masked_images_test, x_test))\n",
        "\n",
        "# Display original, masked, and predicted images\n",
        "def display_results(orig, masked, pred, num=5):\n",
        "    plt.figure(figsize=(15, 5))\n",
        "    for i in range(num):\n",
        "        plt.subplot(3, num, i+1)\n",
        "        plt.imshow(orig[i])\n",
        "        plt.axis('off')\n",
        "        plt.subplot(3, num, i+1+num)\n",
        "        plt.imshow(masked[i])\n",
        "        plt.axis('off')\n",
        "        plt.subplot(3, num, i+1+num*2)\n",
        "        plt.imshow(pred[i])\n",
        "        plt.axis('off')\n",
        "    plt.show()\n",
        "\n",
        "# Predict and display results\n",
        "predicted_images = model.predict(masked_images_test[:5])\n",
        "display_results(x_test[:5], masked_images_test[:5], predicted_images)\n"
      ]
    }
  ]
}